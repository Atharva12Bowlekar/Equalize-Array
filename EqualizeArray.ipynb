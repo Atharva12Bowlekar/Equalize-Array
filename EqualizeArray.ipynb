{
 "cells": [
  {
   "cell_type": "code",
   "execution_count": 47,
   "metadata": {},
   "outputs": [],
   "source": [
    "def equalizeArray(arr):\n",
    "    setter=set(arr)\n",
    "    c=[0]*max(arr)\n",
    "    m=0\n",
    "    for i in setter:\n",
    "        k=0\n",
    "        k=arr.count(i)\n",
    "        c.insert(i,k)\n",
    "    m=(max(c))\n",
    "    c.remove(m)\n",
    "    return sum(c)"
   ]
  },
  {
   "cell_type": "code",
   "execution_count": 48,
   "metadata": {},
   "outputs": [
    {
     "data": {
      "text/plain": [
       "4"
      ]
     },
     "execution_count": 48,
     "metadata": {},
     "output_type": "execute_result"
    }
   ],
   "source": [
    "equalizeArray([1 ,2 ,3 ,1 ,2 ,3 ,3 ,3])"
   ]
  },
  {
   "cell_type": "code",
   "execution_count": null,
   "metadata": {},
   "outputs": [],
   "source": []
  }
 ],
 "metadata": {
  "kernelspec": {
   "display_name": "Python 3",
   "language": "python",
   "name": "python3"
  },
  "language_info": {
   "codemirror_mode": {
    "name": "ipython",
    "version": 3
   },
   "file_extension": ".py",
   "mimetype": "text/x-python",
   "name": "python",
   "nbconvert_exporter": "python",
   "pygments_lexer": "ipython3",
   "version": "3.8.3"
  }
 },
 "nbformat": 4,
 "nbformat_minor": 4
}
